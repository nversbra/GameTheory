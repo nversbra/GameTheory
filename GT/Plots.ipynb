{
 "cells": [
  {
   "cell_type": "markdown",
   "metadata": {},
   "source": [
    "# Learning Dynamics"
   ]
  },
  {
   "cell_type": "markdown",
   "metadata": {},
   "source": [
    "\n"
   ]
  },
  {
   "cell_type": "code",
   "execution_count": 1,
   "metadata": {
    "collapsed": true
   },
   "outputs": [],
   "source": [
    "#imports\n",
    "import numpy as np\n",
    "import pandas as pd\n",
    "import pylab as pl\n",
    "import math as mt\n",
    "import random as rd"
   ]
  },
  {
   "cell_type": "code",
   "execution_count": null,
   "metadata": {
    "collapsed": false
   },
   "outputs": [],
   "source": []
  },
  {
   "cell_type": "code",
   "execution_count": 2,
   "metadata": {
    "collapsed": false
   },
   "outputs": [
    {
     "name": "stdout",
     "output_type": "stream",
     "text": [
      "[[  1.00000000e+00   8.31401941e-02   5.27705772e-01 ...,   0.00000000e+00\n",
      "    6.23911782e-01   3.49275440e-01]\n",
      " [  2.00000000e+00   7.49538560e-02   5.99103564e-01 ...,   0.00000000e+00\n",
      "    6.90678166e-01   2.88032964e-01]\n",
      " [  3.00000000e+00   6.62312739e-02   6.66870246e-01 ...,   0.00000000e+00\n",
      "    7.49836895e-01   2.35065803e-01]\n",
      " ..., \n",
      " [  8.87000000e+02   2.01684120e-87   1.00000000e+00 ...,   0.00000000e+00\n",
      "    1.00000000e+00   5.21200297e-87]\n",
      " [  8.88000000e+02   1.61347296e-87   1.00000000e+00 ...,   0.00000000e+00\n",
      "    1.00000000e+00   4.16960238e-87]\n",
      " [  8.89000000e+02   1.29077837e-87   1.00000000e+00 ...,              nan\n",
      "               nan              nan]]\n"
     ]
    }
   ],
   "source": [
    "data = pd.read_csv('filename.txt').as_matrix()\n",
    "print data"
   ]
  },
  {
   "cell_type": "code",
   "execution_count": 3,
   "metadata": {
    "collapsed": false
   },
   "outputs": [],
   "source": [
    "\n",
    "\n",
    "pl.figure()\n",
    "#pl.title('episode reward')\n",
    "#pl.xlabel('episode')\n",
    "#pl.ylabel('reward of episode')\n",
    "#pl.axis([-10, number_of_episodes, -370, 10])\n",
    "pl.plot([data[i][1] for i in range(0,888)], label ='nFunda, modest')\n",
    "pl.plot([data[i][2] for i in range(0,888)], label ='nFunda, fair')\n",
    "pl.plot([data[i][3] for i in range(0,888)], label ='nFunda, greedy')\n",
    "pl.plot([data[i][4] for i in range(0,888)], label ='Funda, modest')\n",
    "pl.plot([data[i][5] for i in range(0,888)], label ='Funda, fair')\n",
    "pl.plot([data[i][6] for i in range(0,888)], label ='Funda, greedy')\n",
    "    \n",
    "#pl.plot([0,repeats],[qstar,qstar], c='black', label = 'Q*ai',linestyle='dashed')\n",
    "#pl.legend().draggable()\n",
    "pl.legend(fontsize = 'small', loc='center right', bbox_to_anchor=(1.1, .6))\n",
    "pl.show()"
   ]
  }
 ],
 "metadata": {
  "kernelspec": {
   "display_name": "Python 2",
   "language": "python",
   "name": "python2"
  },
  "language_info": {
   "codemirror_mode": {
    "name": "ipython",
    "version": 2
   },
   "file_extension": ".py",
   "mimetype": "text/x-python",
   "name": "python",
   "nbconvert_exporter": "python",
   "pygments_lexer": "ipython2",
   "version": "2.7.10"
  }
 },
 "nbformat": 4,
 "nbformat_minor": 0
}
